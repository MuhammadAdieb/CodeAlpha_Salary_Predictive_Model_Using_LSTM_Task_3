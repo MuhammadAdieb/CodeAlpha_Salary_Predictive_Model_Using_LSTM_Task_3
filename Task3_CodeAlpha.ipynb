{
 "cells": [
  {
   "cell_type": "markdown",
   "id": "f5b9cf0b-36c0-41d2-ad26-553d070cf0eb",
   "metadata": {},
   "source": [
    "# Task 3 Predictive Modeling with Linear Regression (Salary Predictor)"
   ]
  },
  {
   "cell_type": "markdown",
   "id": "caddbff3-c8d8-4cad-ab2a-50c8ee68ed63",
   "metadata": {},
   "source": [
    "# Import Libraries"
   ]
  },
  {
   "cell_type": "code",
   "execution_count": 1,
   "id": "d1ede185",
   "metadata": {},
   "outputs": [],
   "source": [
    "import numpy as np\n",
    "import pandas as pd \n",
    "import os\n",
    "import matplotlib.pyplot as plt\n"
   ]
  },
  {
   "cell_type": "markdown",
   "id": "382b2f59-7d8f-4642-a1cd-d876a86d334e",
   "metadata": {},
   "source": [
    "# Change directory "
   ]
  },
  {
   "cell_type": "code",
   "execution_count": 2,
   "id": "de142ec1",
   "metadata": {},
   "outputs": [],
   "source": [
    "os.chdir('C:\\\\Users\\\\Md Adieb\\\\Task3_Data\\\\')"
   ]
  },
  {
   "cell_type": "code",
   "execution_count": 3,
   "id": "654a790e",
   "metadata": {},
   "outputs": [
    {
     "data": {
      "text/plain": [
       "'C:\\\\Users\\\\Md Adieb\\\\Task3_Data'"
      ]
     },
     "execution_count": 3,
     "metadata": {},
     "output_type": "execute_result"
    }
   ],
   "source": [
    "os.getcwd()"
   ]
  },
  {
   "cell_type": "markdown",
   "id": "057e2000-48dd-4fb2-af6f-de92c3bec2fd",
   "metadata": {},
   "source": [
    "# Load Data set"
   ]
  },
  {
   "cell_type": "code",
   "execution_count": 4,
   "id": "63246280",
   "metadata": {},
   "outputs": [
    {
     "name": "stdout",
     "output_type": "stream",
     "text": [
      "    YearsExperience  Salary\n",
      "0               1.1   39343\n",
      "1               1.3   46205\n",
      "2               1.5   37731\n",
      "3               2.0   43525\n",
      "4               2.2   39891\n",
      "5               2.9   56642\n",
      "6               3.0   60150\n",
      "7               3.2   54445\n",
      "8               3.2   64445\n",
      "9               3.7   57189\n",
      "10              3.9   63218\n",
      "11              4.0   55794\n",
      "12              4.0   56957\n",
      "13              4.1   57081\n",
      "14              4.5   61111\n",
      "15              4.9   67938\n",
      "16              5.1   66029\n",
      "17              5.3   83088\n",
      "18              5.9   81363\n",
      "19              6.0   93940\n",
      "20              6.8   91738\n",
      "21              7.1   98273\n",
      "22              7.9  101302\n",
      "23              8.2  113812\n",
      "24              8.7  109431\n",
      "25              9.0  105582\n",
      "26              9.5  116969\n",
      "27              9.6  112635\n",
      "28             10.3  122391\n",
      "29             10.5  121872\n"
     ]
    }
   ],
   "source": [
    "df1= pd.read_csv('Salary_Data.csv')\n",
    "print (df1)\n"
   ]
  },
  {
   "cell_type": "markdown",
   "id": "eb85adc7-4e10-4ae5-86e8-5828b4315a83",
   "metadata": {},
   "source": [
    "# Create X – Independent Variable ,Create Y – Dependent Variable "
   ]
  },
  {
   "cell_type": "code",
   "execution_count": 5,
   "id": "0cc80876",
   "metadata": {},
   "outputs": [
    {
     "data": {
      "text/html": [
       "<div>\n",
       "<style scoped>\n",
       "    .dataframe tbody tr th:only-of-type {\n",
       "        vertical-align: middle;\n",
       "    }\n",
       "\n",
       "    .dataframe tbody tr th {\n",
       "        vertical-align: top;\n",
       "    }\n",
       "\n",
       "    .dataframe thead th {\n",
       "        text-align: right;\n",
       "    }\n",
       "</style>\n",
       "<table border=\"1\" class=\"dataframe\">\n",
       "  <thead>\n",
       "    <tr style=\"text-align: right;\">\n",
       "      <th></th>\n",
       "      <th>YearsExperience</th>\n",
       "    </tr>\n",
       "  </thead>\n",
       "  <tbody>\n",
       "    <tr>\n",
       "      <th>0</th>\n",
       "      <td>1.1</td>\n",
       "    </tr>\n",
       "    <tr>\n",
       "      <th>1</th>\n",
       "      <td>1.3</td>\n",
       "    </tr>\n",
       "    <tr>\n",
       "      <th>2</th>\n",
       "      <td>1.5</td>\n",
       "    </tr>\n",
       "    <tr>\n",
       "      <th>3</th>\n",
       "      <td>2.0</td>\n",
       "    </tr>\n",
       "    <tr>\n",
       "      <th>4</th>\n",
       "      <td>2.2</td>\n",
       "    </tr>\n",
       "    <tr>\n",
       "      <th>5</th>\n",
       "      <td>2.9</td>\n",
       "    </tr>\n",
       "    <tr>\n",
       "      <th>6</th>\n",
       "      <td>3.0</td>\n",
       "    </tr>\n",
       "    <tr>\n",
       "      <th>7</th>\n",
       "      <td>3.2</td>\n",
       "    </tr>\n",
       "    <tr>\n",
       "      <th>8</th>\n",
       "      <td>3.2</td>\n",
       "    </tr>\n",
       "    <tr>\n",
       "      <th>9</th>\n",
       "      <td>3.7</td>\n",
       "    </tr>\n",
       "    <tr>\n",
       "      <th>10</th>\n",
       "      <td>3.9</td>\n",
       "    </tr>\n",
       "    <tr>\n",
       "      <th>11</th>\n",
       "      <td>4.0</td>\n",
       "    </tr>\n",
       "    <tr>\n",
       "      <th>12</th>\n",
       "      <td>4.0</td>\n",
       "    </tr>\n",
       "    <tr>\n",
       "      <th>13</th>\n",
       "      <td>4.1</td>\n",
       "    </tr>\n",
       "    <tr>\n",
       "      <th>14</th>\n",
       "      <td>4.5</td>\n",
       "    </tr>\n",
       "    <tr>\n",
       "      <th>15</th>\n",
       "      <td>4.9</td>\n",
       "    </tr>\n",
       "    <tr>\n",
       "      <th>16</th>\n",
       "      <td>5.1</td>\n",
       "    </tr>\n",
       "    <tr>\n",
       "      <th>17</th>\n",
       "      <td>5.3</td>\n",
       "    </tr>\n",
       "    <tr>\n",
       "      <th>18</th>\n",
       "      <td>5.9</td>\n",
       "    </tr>\n",
       "    <tr>\n",
       "      <th>19</th>\n",
       "      <td>6.0</td>\n",
       "    </tr>\n",
       "    <tr>\n",
       "      <th>20</th>\n",
       "      <td>6.8</td>\n",
       "    </tr>\n",
       "    <tr>\n",
       "      <th>21</th>\n",
       "      <td>7.1</td>\n",
       "    </tr>\n",
       "    <tr>\n",
       "      <th>22</th>\n",
       "      <td>7.9</td>\n",
       "    </tr>\n",
       "    <tr>\n",
       "      <th>23</th>\n",
       "      <td>8.2</td>\n",
       "    </tr>\n",
       "    <tr>\n",
       "      <th>24</th>\n",
       "      <td>8.7</td>\n",
       "    </tr>\n",
       "    <tr>\n",
       "      <th>25</th>\n",
       "      <td>9.0</td>\n",
       "    </tr>\n",
       "    <tr>\n",
       "      <th>26</th>\n",
       "      <td>9.5</td>\n",
       "    </tr>\n",
       "    <tr>\n",
       "      <th>27</th>\n",
       "      <td>9.6</td>\n",
       "    </tr>\n",
       "    <tr>\n",
       "      <th>28</th>\n",
       "      <td>10.3</td>\n",
       "    </tr>\n",
       "    <tr>\n",
       "      <th>29</th>\n",
       "      <td>10.5</td>\n",
       "    </tr>\n",
       "  </tbody>\n",
       "</table>\n",
       "</div>"
      ],
      "text/plain": [
       "    YearsExperience\n",
       "0               1.1\n",
       "1               1.3\n",
       "2               1.5\n",
       "3               2.0\n",
       "4               2.2\n",
       "5               2.9\n",
       "6               3.0\n",
       "7               3.2\n",
       "8               3.2\n",
       "9               3.7\n",
       "10              3.9\n",
       "11              4.0\n",
       "12              4.0\n",
       "13              4.1\n",
       "14              4.5\n",
       "15              4.9\n",
       "16              5.1\n",
       "17              5.3\n",
       "18              5.9\n",
       "19              6.0\n",
       "20              6.8\n",
       "21              7.1\n",
       "22              7.9\n",
       "23              8.2\n",
       "24              8.7\n",
       "25              9.0\n",
       "26              9.5\n",
       "27              9.6\n",
       "28             10.3\n",
       "29             10.5"
      ]
     },
     "execution_count": 5,
     "metadata": {},
     "output_type": "execute_result"
    }
   ],
   "source": [
    "x=df1.iloc[:,:-1]\n",
    "x"
   ]
  },
  {
   "cell_type": "code",
   "execution_count": 6,
   "id": "8f71a70b",
   "metadata": {},
   "outputs": [
    {
     "data": {
      "text/plain": [
       "array([[ 1.1],\n",
       "       [ 1.3],\n",
       "       [ 1.5],\n",
       "       [ 2. ],\n",
       "       [ 2.2],\n",
       "       [ 2.9],\n",
       "       [ 3. ],\n",
       "       [ 3.2],\n",
       "       [ 3.2],\n",
       "       [ 3.7],\n",
       "       [ 3.9],\n",
       "       [ 4. ],\n",
       "       [ 4. ],\n",
       "       [ 4.1],\n",
       "       [ 4.5],\n",
       "       [ 4.9],\n",
       "       [ 5.1],\n",
       "       [ 5.3],\n",
       "       [ 5.9],\n",
       "       [ 6. ],\n",
       "       [ 6.8],\n",
       "       [ 7.1],\n",
       "       [ 7.9],\n",
       "       [ 8.2],\n",
       "       [ 8.7],\n",
       "       [ 9. ],\n",
       "       [ 9.5],\n",
       "       [ 9.6],\n",
       "       [10.3],\n",
       "       [10.5]])"
      ]
     },
     "execution_count": 6,
     "metadata": {},
     "output_type": "execute_result"
    }
   ],
   "source": [
    "x=df1.iloc[:,:-1].values\n",
    "x"
   ]
  },
  {
   "cell_type": "code",
   "execution_count": 7,
   "id": "3b08d88e",
   "metadata": {},
   "outputs": [
    {
     "data": {
      "text/plain": [
       "array([ 39343,  46205,  37731,  43525,  39891,  56642,  60150,  54445,\n",
       "        64445,  57189,  63218,  55794,  56957,  57081,  61111,  67938,\n",
       "        66029,  83088,  81363,  93940,  91738,  98273, 101302, 113812,\n",
       "       109431, 105582, 116969, 112635, 122391, 121872], dtype=int64)"
      ]
     },
     "execution_count": 7,
     "metadata": {},
     "output_type": "execute_result"
    }
   ],
   "source": [
    "y=df1.iloc[:,-1].values\n",
    "y"
   ]
  },
  {
   "cell_type": "markdown",
   "id": "7c67e1c9-7e09-4540-8e43-b10d789025bd",
   "metadata": {},
   "source": [
    "# Plot Graph "
   ]
  },
  {
   "cell_type": "code",
   "execution_count": 8,
   "id": "8d565bfa",
   "metadata": {},
   "outputs": [
    {
     "data": {
      "image/png": "[encoded data removed]",
      "text/plain": [
       "<Figure size 640x480 with 1 Axes>"
      ]
     },
     "metadata": {},
     "output_type": "display_data"
    }
   ],
   "source": [
    "plt.plot(x,y)\n",
    "plt.show()"
   ]
  },
  {
   "cell_type": "markdown",
   "id": "ec3253f4-bde7-4af0-879c-b7da05121801",
   "metadata": {},
   "source": [
    "# Train Test Split"
   ]
  },
  {
   "cell_type": "code",
   "execution_count": 9,
   "id": "9dd44520",
   "metadata": {},
   "outputs": [
    {
     "data": {
      "text/plain": [
       "[array([[ 3.2],\n",
       "        [ 4.5],\n",
       "        [ 7.9],\n",
       "        [ 2. ],\n",
       "        [ 1.3],\n",
       "        [ 5.3],\n",
       "        [ 8.7],\n",
       "        [ 9.5],\n",
       "        [ 2.2],\n",
       "        [ 4. ],\n",
       "        [ 3.2],\n",
       "        [ 4.9],\n",
       "        [ 3.7],\n",
       "        [10.5],\n",
       "        [ 1.5],\n",
       "        [ 8.2],\n",
       "        [ 7.1],\n",
       "        [ 4. ],\n",
       "        [ 1.1],\n",
       "        [ 5.1],\n",
       "        [ 3. ],\n",
       "        [ 9. ]]),\n",
       " array([[ 6. ],\n",
       "        [ 6.8],\n",
       "        [ 4.1],\n",
       "        [ 9.6],\n",
       "        [ 3.9],\n",
       "        [ 2.9],\n",
       "        [10.3],\n",
       "        [ 5.9]])]"
      ]
     },
     "execution_count": 9,
     "metadata": {},
     "output_type": "execute_result"
    }
   ],
   "source": [
    "from sklearn.model_selection import train_test_split\n",
    "train_test_split(x)#default train test split is 75 and 25 percent"
   ]
  },
  {
   "cell_type": "code",
   "execution_count": 10,
   "id": "be0f0646",
   "metadata": {},
   "outputs": [],
   "source": [
    "#80 20 ration split\n",
    "from sklearn.model_selection import train_test_split\n",
    "x_train,x_test,y_train,y_test=train_test_split(x,y,test_size=.20)"
   ]
  },
  {
   "cell_type": "code",
   "execution_count": 11,
   "id": "9ab762a9",
   "metadata": {},
   "outputs": [
    {
     "data": {
      "text/plain": [
       "(24, 1)"
      ]
     },
     "execution_count": 11,
     "metadata": {},
     "output_type": "execute_result"
    }
   ],
   "source": [
    "x_train.shape"
   ]
  },
  {
   "cell_type": "code",
   "execution_count": 12,
   "id": "8d3647c7",
   "metadata": {},
   "outputs": [
    {
     "data": {
      "text/plain": [
       "(6, 1)"
      ]
     },
     "execution_count": 12,
     "metadata": {},
     "output_type": "execute_result"
    }
   ],
   "source": [
    "x_test.shape"
   ]
  },
  {
   "cell_type": "code",
   "execution_count": 13,
   "id": "5776377a",
   "metadata": {},
   "outputs": [
    {
     "data": {
      "text/plain": [
       "(24,)"
      ]
     },
     "execution_count": 13,
     "metadata": {},
     "output_type": "execute_result"
    }
   ],
   "source": [
    "y_train.shape"
   ]
  },
  {
   "cell_type": "code",
   "execution_count": 14,
   "id": "40305c93",
   "metadata": {},
   "outputs": [
    {
     "data": {
      "text/plain": [
       "(6,)"
      ]
     },
     "execution_count": 14,
     "metadata": {},
     "output_type": "execute_result"
    }
   ],
   "source": [
    "y_test.shape"
   ]
  },
  {
   "cell_type": "markdown",
   "id": "37b6dff2-a67c-47bb-9fe8-401e509c66e2",
   "metadata": {},
   "source": [
    "# Linear Regression  "
   ]
  },
  {
   "cell_type": "code",
   "execution_count": 17,
   "id": "1439a03f",
   "metadata": {},
   "outputs": [
    {
     "name": "stdout",
     "output_type": "stream",
     "text": [
      "LinearRegression()\n"
     ]
    }
   ],
   "source": [
    "#create model\n",
    "from sklearn.linear_model import LinearRegression\n",
    "lr=LinearRegression()\n",
    "lr.fit(x_train,y_train)\n",
    "print(lr)"
   ]
  },
  {
   "cell_type": "markdown",
   "id": "860ae4ba-dd16-4fae-a9d0-8088d3c387f5",
   "metadata": {},
   "source": [
    "# Prediction"
   ]
  },
  {
   "cell_type": "code",
   "execution_count": 18,
   "id": "0548fa00",
   "metadata": {},
   "outputs": [
    {
     "data": {
      "text/plain": [
       "array([ 68022.16962733, 102721.94392888,  92405.7948122 ,  38011.55401518,\n",
       "        73649.16005461, 122416.41042435])"
      ]
     },
     "execution_count": 18,
     "metadata": {},
     "output_type": "execute_result"
    }
   ],
   "source": [
    "y_pred=lr.predict(x_test)\n",
    "y_pred"
   ]
  },
  {
   "cell_type": "code",
   "execution_count": 19,
   "id": "41908740",
   "metadata": {},
   "outputs": [
    {
     "data": {
      "text/plain": [
       "array([ 61111, 113812,  98273,  46205,  66029, 122391], dtype=int64)"
      ]
     },
     "execution_count": 19,
     "metadata": {},
     "output_type": "execute_result"
    }
   ],
   "source": [
    "y_test"
   ]
  },
  {
   "cell_type": "markdown",
   "id": "08128319-eb33-4ef7-8f69-8e9440ed4519",
   "metadata": {},
   "source": [
    "# Display Test , Prediction and Difference  "
   ]
  },
  {
   "cell_type": "code",
   "execution_count": 20,
   "id": "b64895e4",
   "metadata": {},
   "outputs": [
    {
     "name": "stdout",
     "output_type": "stream",
     "text": [
      "   Experience  Salary     Prediction    Difference\n",
      "0         4.5   61111   68022.169627  -6911.169627\n",
      "1         8.2  113812  102721.943929  11090.056071\n",
      "2         7.1   98273   92405.794812   5867.205188\n",
      "3         1.3   46205   38011.554015   8193.445985\n",
      "4         5.1   66029   73649.160055  -7620.160055\n",
      "5        10.3  122391  122416.410424    -25.410424\n"
     ]
    }
   ],
   "source": [
    "#display in one line\n",
    "df_x_test =pd.DataFrame(x_test, columns = ['Experience'])\n",
    "df_y_test= pd.DataFrame(y_test, columns = ['Salary'])\n",
    "df_y_test_pred =  pd.DataFrame(y_pred, columns = ['Prediction'])\n",
    "df_diff =df_y_test- df_y_test_pred\n",
    "y_test_pred = pd.concat ([df_x_test ,df_y_test, df_y_test_pred ],axis =1)\n",
    "y_test_pred['Difference'] =df_y_test ['Salary']- df_y_test_pred['Prediction']\n",
    "print (y_test_pred)"
   ]
  },
  {
   "cell_type": "markdown",
   "id": "05b8752b-5552-4ba9-b337-e1cb5e1dab43",
   "metadata": {},
   "source": [
    "# Accuracy "
   ]
  },
  {
   "cell_type": "code",
   "execution_count": 21,
   "id": "e2efd5e1",
   "metadata": {},
   "outputs": [
    {
     "name": "stdout",
     "output_type": "stream",
     "text": [
      "0.9317293383563495\n"
     ]
    }
   ],
   "source": [
    "#accuracy of model\n",
    "from sklearn.metrics import r2_score\n",
    "accuracy = r2_score(y_test,y_pred)\n",
    "print (accuracy)\n"
   ]
  },
  {
   "cell_type": "code",
   "execution_count": 22,
   "id": "824078a2",
   "metadata": {},
   "outputs": [
    {
     "data": {
      "image/png": "[encoded data removed]",
      "text/plain": [
       "<Figure size 640x480 with 1 Axes>"
      ]
     },
     "metadata": {},
     "output_type": "display_data"
    }
   ],
   "source": [
    "#plot graph\n",
    "plt.scatter (x_test, y_test)\n",
    "plt.plot (x_test, y_pred,'r')\n",
    "plt.show()\n"
   ]
  },
  {
   "cell_type": "markdown",
   "id": "00298361-cc46-4822-882e-c244c7a30b3c",
   "metadata": {},
   "source": [
    "# Coefficient and Intercept "
   ]
  },
  {
   "cell_type": "code",
   "execution_count": 23,
   "id": "4074d5f4",
   "metadata": {},
   "outputs": [
    {
     "data": {
      "text/plain": [
       "array([9378.3173788])"
      ]
     },
     "execution_count": 23,
     "metadata": {},
     "output_type": "execute_result"
    }
   ],
   "source": [
    "#y=mx+c\n",
    "lr.coef_#slope"
   ]
  },
  {
   "cell_type": "code",
   "execution_count": 24,
   "id": "ebee316a",
   "metadata": {},
   "outputs": [
    {
     "data": {
      "text/plain": [
       "25819.741422743748"
      ]
     },
     "execution_count": 24,
     "metadata": {},
     "output_type": "execute_result"
    }
   ],
   "source": [
    "#intercept\n",
    "lr.intercept_#c"
   ]
  },
  {
   "cell_type": "code",
   "execution_count": 25,
   "id": "be2b1001",
   "metadata": {},
   "outputs": [
    {
     "data": {
      "text/plain": [
       "62905.36175080197"
      ]
     },
     "execution_count": 25,
     "metadata": {},
     "output_type": "execute_result"
    }
   ],
   "source": [
    "4.0*9598.24847948 +24512.367832881966#y=mx+c"
   ]
  },
  {
   "cell_type": "code",
   "execution_count": 26,
   "id": "84884358",
   "metadata": {},
   "outputs": [
    {
     "name": "stdout",
     "output_type": "stream",
     "text": [
      "   Experience  Salary     Prediction    Difference\n",
      "0         4.5   61111   68022.169627  -6911.169627\n",
      "1         8.2  113812  102721.943929  11090.056071\n",
      "2         7.1   98273   92405.794812   5867.205188\n",
      "3         1.3   46205   38011.554015   8193.445985\n",
      "4         5.1   66029   73649.160055  -7620.160055\n",
      "5        10.3  122391  122416.410424    -25.410424\n"
     ]
    }
   ],
   "source": [
    "print(y_test_pred)"
   ]
  },
  {
   "cell_type": "code",
   "execution_count": 27,
   "id": "4a2c93fe",
   "metadata": {},
   "outputs": [
    {
     "name": "stdout",
     "output_type": "stream",
     "text": [
      "[ 36135.89053942  38011.55401518  39887.21749094  44576.37618034\n",
      "  46452.0396561   53016.86182126  53954.69355913  55830.35703489\n",
      "  55830.35703489  60519.51572429  62395.17920005  63333.01093793\n",
      "  63333.01093793  64270.84267581  68022.16962733  71773.49657885\n",
      "  73649.16005461  75524.82353037  81151.81395765  82089.64569553\n",
      "  89592.29959856  92405.7948122   99908.44871524 102721.94392888\n",
      " 107411.10261828 110224.59783192 114913.75652132 115851.58825919\n",
      " 122416.41042435 124292.07390011]\n"
     ]
    }
   ],
   "source": [
    "y_pred_final= lr.predict (x)\n",
    "print (y_pred_final)"
   ]
  },
  {
   "cell_type": "code",
   "execution_count": 28,
   "id": "ec295ea5",
   "metadata": {},
   "outputs": [
    {
     "name": "stdout",
     "output_type": "stream",
     "text": [
      "    YearsExperience  Salary     Prediction    Difference\n",
      "0               1.1   39343   36135.890539   3207.109461\n",
      "1               1.3   46205   38011.554015   8193.445985\n",
      "2               1.5   37731   39887.217491  -2156.217491\n",
      "3               2.0   43525   44576.376180  -1051.376180\n",
      "4               2.2   39891   46452.039656  -6561.039656\n",
      "5               2.9   56642   53016.861821   3625.138179\n",
      "6               3.0   60150   53954.693559   6195.306441\n",
      "7               3.2   54445   55830.357035  -1385.357035\n",
      "8               3.2   64445   55830.357035   8614.642965\n",
      "9               3.7   57189   60519.515724  -3330.515724\n",
      "10              3.9   63218   62395.179200    822.820800\n",
      "11              4.0   55794   63333.010938  -7539.010938\n",
      "12              4.0   56957   63333.010938  -6376.010938\n",
      "13              4.1   57081   64270.842676  -7189.842676\n",
      "14              4.5   61111   68022.169627  -6911.169627\n",
      "15              4.9   67938   71773.496579  -3835.496579\n",
      "16              5.1   66029   73649.160055  -7620.160055\n",
      "17              5.3   83088   75524.823530   7563.176470\n",
      "18              5.9   81363   81151.813958    211.186042\n",
      "19              6.0   93940   82089.645696  11850.354304\n",
      "20              6.8   91738   89592.299599   2145.700401\n",
      "21              7.1   98273   92405.794812   5867.205188\n",
      "22              7.9  101302   99908.448715   1393.551285\n",
      "23              8.2  113812  102721.943929  11090.056071\n",
      "24              8.7  109431  107411.102618   2019.897382\n",
      "25              9.0  105582  110224.597832  -4642.597832\n",
      "26              9.5  116969  114913.756521   2055.243479\n",
      "27              9.6  112635  115851.588259  -3216.588259\n",
      "28             10.3  122391  122416.410424    -25.410424\n",
      "29             10.5  121872  124292.073900  -2420.073900\n"
     ]
    }
   ],
   "source": [
    "#complete dataset\n",
    "y_pred_final = pd.DataFrame(y_pred_final,columns= ['Prediction'])\n",
    "result = pd.concat([df1,y_pred_final], axis =1)\n",
    "result['Difference'] = result['Salary'] - result['Prediction']\n",
    "print (result)\n",
    "result.to_excel(\"Predictive_LinearRegression.xlsx\")\n"
   ]
  },
  {
   "cell_type": "code",
   "execution_count": 28,
   "id": "4e0c1c74",
   "metadata": {},
   "outputs": [
    {
     "name": "stdout",
     "output_type": "stream",
     "text": [
      "0.9566091663602164\n"
     ]
    }
   ],
   "source": [
    "from sklearn.metrics import r2_score\n",
    "accuracy = r2_score(y,y_pred_final)\n",
    "print (accuracy)\n"
   ]
  },
  {
   "cell_type": "code",
   "execution_count": 29,
   "id": "3d485784",
   "metadata": {},
   "outputs": [
    {
     "data": {
      "image/png": "[encoded data removed]",
      "text/plain": [
       "<Figure size 640x480 with 1 Axes>"
      ]
     },
     "metadata": {},
     "output_type": "display_data"
    }
   ],
   "source": [
    "plt.plot(x,y)\n",
    "plt.plot(x,y_pred_final)\n",
    "plt.show()"
   ]
  },
  {
   "cell_type": "code",
   "execution_count": 30,
   "id": "6438365e",
   "metadata": {},
   "outputs": [
    {
     "data": {
      "text/plain": [
       "array([137927.0168552])"
      ]
     },
     "execution_count": 30,
     "metadata": {},
     "output_type": "execute_result"
    }
   ],
   "source": [
    "lr.predict([[12]])#2d array"
   ]
  },
  {
   "cell_type": "code",
   "execution_count": 31,
   "id": "7cc699cf",
   "metadata": {},
   "outputs": [
    {
     "data": {
      "text/plain": [
       "array([165742.49800151, 137927.0168552 ,  77660.14103821])"
      ]
     },
     "execution_count": 31,
     "metadata": {},
     "output_type": "execute_result"
    }
   ],
   "source": [
    "lr.predict([[15],[12],[5.5]])"
   ]
  }
 ],
 "metadata": {
  "kernelspec": {
   "display_name": "Python 3 (ipykernel)",
   "language": "python",
   "name": "python3"
  },
  "language_info": {
   "codemirror_mode": {
    "name": "ipython",
    "version": 3
   },
   "file_extension": ".py",
   "mimetype": "text/x-python",
   "name": "python",
   "nbconvert_exporter": "python",
   "pygments_lexer": "ipython3",
   "version": "3.9.18"
  }
 },
 "nbformat": 4,
 "nbformat_minor": 5
}
